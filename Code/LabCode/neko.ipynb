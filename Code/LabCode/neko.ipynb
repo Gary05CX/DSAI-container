{
 "cells": [
  {
   "cell_type": "code",
   "execution_count": null,
   "id": "4c08ae87-c952-4b75-b5bd-c7a2dfcc0402",
   "metadata": {},
   "outputs": [],
   "source": [
    "from diffusers import StableDiffusionPipeline\n",
    "import torch\n",
    "\n",
    "from IPython.display import Image"
   ]
  },
  {
   "cell_type": "code",
   "execution_count": null,
   "id": "59b9473f-74a7-46ec-863c-516a7272cd4a",
   "metadata": {},
   "outputs": [],
   "source": [
    "model_id: str = \"Meina/MeinaUnreal_V3\"\n",
    "\n",
    "pipe = StableDiffusionPipeline.from_pretrained(model_id, torch_dtype = torch.float32, use_safeTensor = True, safety_checker = True)\n",
    "\n",
    "pipe = pipe.to(\"cpu\")"
   ]
  },
  {
   "cell_type": "code",
   "execution_count": null,
   "id": "382947d4-26dc-4ab4-ad23-13f88ad76123",
   "metadata": {},
   "outputs": [],
   "source": [
    "prompt = \"neko\"\n",
    "negative_prompt = \"Interloced fingers, three legs\"\n",
    "output_image_path = \"/Code/output.png\"\n",
    "image = pipe(prompt, negative_prompt = negative_prompt).images[0]\n",
    "image.save(output_image_path)\n",
    "Image(filename = output_image_path)"
   ]
  }
 ],
 "metadata": {
  "kernelspec": {
   "display_name": "Python 3 (ipykernel)",
   "language": "python",
   "name": "python3"
  },
  "language_info": {
   "codemirror_mode": {
    "name": "ipython",
    "version": 3
   },
   "file_extension": ".py",
   "mimetype": "text/x-python",
   "name": "python",
   "nbconvert_exporter": "python",
   "pygments_lexer": "ipython3",
   "version": "3.12.11"
  }
 },
 "nbformat": 4,
 "nbformat_minor": 5
}
