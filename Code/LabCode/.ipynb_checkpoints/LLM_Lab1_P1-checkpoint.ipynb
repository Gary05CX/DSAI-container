{
 "cells": [
  {
   "cell_type": "markdown",
   "id": "732f9136-92ba-4ecc-a8ea-7c95b0e46d37",
   "metadata": {},
   "source": [
    "Keynotes for this lab:\n",
    "<ol>\n",
    "    <li>Basic Connection</li>\n",
    "    <li>Basic Usage</li>\n",
    "    <li>Basic application</li>\n",
    "    <li>Cannot remember what you said originally!!</li>\n",
    "</ol>"
   ]
  },
  {
   "cell_type": "markdown",
   "id": "b4e5028c-5bc5-487c-bc5b-0a39075391e4",
   "metadata": {},
   "source": [
    "Package Used"
   ]
  },
  {
   "cell_type": "code",
   "execution_count": 4,
   "id": "35525ae4-726b-4fe9-8ffb-a56abdf9cbd1",
   "metadata": {},
   "outputs": [],
   "source": [
    "#connect llm\n",
    "import ollama\n",
    "#from ollama import chat\n",
    "#from ollama import ChatResponse\n",
    "#from ollama import Client\n",
    "\n",
    "#langchain\n",
    "import langchain\n",
    "import langgraph\n",
    "#import OllamaLLM\n",
    "\n",
    "#generate document\n",
    "import docx\n",
    "import docx.enum.text\n",
    "\n",
    "#prompt language checking\n",
    "import re"
   ]
  },
  {
   "cell_type": "markdown",
   "id": "91a1d8e7-f3cd-4c3e-a6bc-f57aebe03c19",
   "metadata": {},
   "source": [
    "Standard Communication"
   ]
  },
  {
   "cell_type": "code",
   "execution_count": 6,
   "id": "8dc19b1e-b0ad-4d12-ac33-a47def1ede89",
   "metadata": {},
   "outputs": [
    {
     "name": "stdout",
     "output_type": "stream",
     "text": [
      "Hello! I'm Qwen, an AI assistant created by Alibaba Cloud. It seems there might be a bit of confusion with the name \"qwem.\" There isn't another specific AI character named \"qwem\" recognized in my knowledge or within Alibaba Cloud's ecosystem.\n",
      "\n",
      "I am designed to help users generate human-like text across a variety of languages and domains, answer questions, provide information, engage in conversations, and more. If you have any questions or need assistance with something, feel free to ask! How can I assist you today?\n"
     ]
    }
   ],
   "source": [
    "model_server = \"http://modelserver:11434\"\n",
    "\n",
    "client = ollama.Client(host = model_server)\n",
    "\n",
    "model = \"qwen2.5:7b\"\n",
    "messages = [\n",
    "    {\n",
    "    \"role\": \"user\",\n",
    "    \"content\": \"Do you know qwen? You and qwem, who is better?\"\n",
    "    }\n",
    "]\n",
    "response = client.chat(model = model, messages = messages)\n",
    "\n",
    "print(response[\"message\"][\"content\"])"
   ]
  },
  {
   "cell_type": "markdown",
   "id": "78a2b927-dfa9-4cf8-b03e-c34cfafbfdd7",
   "metadata": {},
   "source": [
    "use different model based on question"
   ]
  },
  {
   "cell_type": "code",
   "execution_count": 3,
   "id": "788743ac-8ae9-4869-b676-b38ff8c3a85f",
   "metadata": {},
   "outputs": [
    {
     "name": "stdout",
     "output_type": "stream",
     "text": [
      "[\"Here is a sample recommendation letter for articulation:\\n\\n[Your Name]\\n[Your Title/Position]\\n[Your Institution/Organization]\\n[Date]\\n\\n[Recipient's Name]\\n[Recipient's Title]\\n[Institution/Organization]\\n\\nDear [Recipient's Name],\\n\\nI am writing to wholeheartedly recommend [Student's Name] for articulation at your institution. I have had the pleasure of knowing and working with [Student's Name] in my capacity as [Your Position], and I can confidently attest to their academic excellence, determination, and exceptional qualifications.\\n\\nDuring their time at [Current Institution], [Student's Name] has consistently demonstrated a strong work ethic, a keen mind for learning, and an unwavering commitment to achieving academic success. Their academic record is outstanding, with a GPA of [GPA] and a cumulative record of [Notable Achievements].\\n\\nWhat sets [Student's Name] apart, however, is their unique combination of skills, experience, and passion. They possess a deep understanding of [Subject Area/Field], which has been evident in their academic work, projects, and presentations. Their ability to analyze complex problems, think critically, and communicate effectively with peers and faculty is truly impressive.\\n\\nIn my opinion, [Student's Name] would be an excellent fit for your institution's articulation program. They possess the intellectual curiosity, academic rigor, and personal qualities that are essential for success in your program. I have no doubt that they will excel academically, make valuable contributions to our community, and embody the values of your institution.\\n\\nIf you have any further questions or would like to discuss [Student's Name]'s qualifications in more detail, please do not hesitate to contact me. I am more than happy to provide additional information or support their application.\\n\\nPlease feel free to reach out to me at [Your Contact Information].\\n\\nSincerely,\\n\\n[Your Signature]\\n[Your Name]\\n\\ncc: [Other Recommenders (if applicable)]\\n\\nNote:\\n\\n* This is just a sample, and you should tailor the letter to your own experiences and relationship with the student.\\n* Make sure to include specific examples of the student's academic achievements, skills, and qualities that make them a strong candidate for articulation.\\n* Check with the institution's requirements and policies regarding articulation recommendations.\", '根据题目信息，我们需要分析这四个人的话，找出他们说谎的内容，并以此来推断出真相。\\n\\n让我们先分别看每个人的话：\\n\\n- **A**：  \\n  - \"我们四人都不是杀富翁的兇手。\"（错）\\n  - \"我离开富翁家的时候他還活著。\" （对）\\n\\n- **B**：\\n  - \"我是第二個到富翁家的。\"（错）\\n  - \"我到富翁家的時候他已經死了。\" （错）\\n\\n- **C**：  \\n  - \"我是第三個到富翁家的。\"（错）\\n  - \"我离开富翁家的时候他還活著。\" （对）\\n\\n- **D**： \\n  - \"兇手不是在我去富翁家之後離開的。\"（错）\\n  - \"我到富翁家的時候他已經死了。\" （错）\\n\\n因为题目说四个人的话都是谎言，那么我们就先分析他们所说的第一句话：\\n\\n1. A说：“我们四人都不是杀富翁的兇手。”这是错误的，意味着至少一个人是兇手。\\n2. B说：“我是第二個到富翁家的。”这是错误的。\\n3. C说：“我是第三個到富翁家的。”这是错误的。\\n4. D说：“兇手不是在我去富翁家之後離開的。”这是错误的，意味着兇手在D之后离开了。\\n\\n根据这些信息：\\n\\n- A和C的话表明，至少有一个是兇手。因此可以排除A和C。\\n  \\n- B说他第二个到，而C说他是第三个到。由于他们的顺序必须是连续的，并且B说的是假话，那么只能假设顺序为：**D→B→C**（即D是第一个到达）。\\n\\n接下来分析他们的话：\\n\\n- D：“兇手不是在我去富翁家之后离开的。”这是错的，意味着兇手确实是在他之后离开。\\n- B：“我到富翁家的时候他已经死了。” 这是错的。因此B并非兇手（因为如果B在富翁死后到达现场，那么他在说真话，但是题目中指出他们的话都是谎言）。\\n\\n结合B和C的顺序，可以确定：\\n\\n1. D先到达，而兇手必须在D之后离开。\\n2. B是第二个到达，并且在他说“我到富翁家的时候他已经死了”之前，富翁还活着。所以B不是兇手。\\n3. C是第三个到达并且说他离开的时候富翁还活着。\\n\\n综上所述，可以推测：\\n\\n- D作为第一个到达的人，可能接触了某些物品或证据后离开；\\n- B在D之后到达，由于他说谎，则说明他在富翁死亡之前就已经到达现场；\\n- 从时间线上来看，C最晚到达且说谎（离开时候富翁还活着），但因为前面顺序有误，可以推断他并非兇手。\\n\\n因此，**B是真正杀害富翁的人。**\\n\\n最终答案是：**B杀害了富翁。**', \"You are not asked a specific question, but rather you're asking what question was asked. The initial message only provided a prompt to ask a question.\"]\n"
     ]
    }
   ],
   "source": []
  },
  {
   "cell_type": "markdown",
   "id": "d9ee2b9f-a7cf-4428-a0b6-41d91b59e8c6",
   "metadata": {},
   "source": [
    "Write Recommendation letter and Export as MS Words"
   ]
  },
  {
   "cell_type": "code",
   "execution_count": 4,
   "id": "e39221b2-3e20-4cdc-9e62-3dc36867f321",
   "metadata": {},
   "outputs": [
    {
     "name": "stdout",
     "output_type": "stream",
     "text": [
      "[Your University/Institution Letterhead]\n",
      "\n",
      "[Date]\n",
      "\n",
      "Admissions Committee,\n",
      "City University of Hong Kong,\n",
      "Kowloon Tong, Hong Kong.\n",
      "\n",
      "Dear Admissions Committee,\n",
      "\n",
      "I am writing to wholeheartedly recommend Benson for admission to the [Degree Programme] at City University of Hong Kong. As Benson's academic supervisor, I have had the pleasure of guiding and mentoring him throughout his undergraduate studies, and I can confidently attest that he possesses the academic excellence, technical skills, and personal qualities that make him an ideal candidate for your esteemed institution.\n",
      "\n",
      "Benson has consistently demonstrated a keen interest in data analysis and applied machine learning, which is reflected in his outstanding performance in the Tipdm Cup Data Analytic competition where he emerged as the champion. This achievement showcases his exceptional problem-solving skills, attention to detail, and ability to work under pressure. His academic excellence extends beyond this achievement, as evident from his outstanding grades and dedication to his studies. I am particularly impressed with his Final Year Project (FYP) on LLM application development, which demonstrates his depth of knowledge in the field and his potential for making valuable contributions to the industry.\n",
      "\n",
      "I strongly believe that Benson has the potential to make a positive impact at City University of Hong Kong and beyond. His passion for data science, combined with his academic achievements and personal qualities, make him an exceptional candidate for your degree programme. I highly recommend Benson for admission to [Degree Programme] at City University of Hong Kong, and I am confident that he will excel in your academic community.\n",
      "\n",
      "Sincerely,\n",
      "\n",
      "Arion\n"
     ]
    }
   ],
   "source": []
  },
  {
   "cell_type": "code",
   "execution_count": null,
   "id": "2898d9b5-7163-4a2a-92de-3ee7f69594a6",
   "metadata": {},
   "outputs": [],
   "source": []
  }
 ],
 "metadata": {
  "kernelspec": {
   "display_name": "Python 3 (ipykernel)",
   "language": "python",
   "name": "python3"
  },
  "language_info": {
   "codemirror_mode": {
    "name": "ipython",
    "version": 3
   },
   "file_extension": ".py",
   "mimetype": "text/x-python",
   "name": "python",
   "nbconvert_exporter": "python",
   "pygments_lexer": "ipython3",
   "version": "3.12.11"
  }
 },
 "nbformat": 4,
 "nbformat_minor": 5
}
